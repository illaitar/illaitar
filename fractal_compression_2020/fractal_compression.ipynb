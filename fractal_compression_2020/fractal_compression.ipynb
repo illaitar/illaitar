version https://git-lfs.github.com/spec/v1
oid sha256:bcc8b87914e4274dbbcd95bc0c6b80f169eb3141fa0a403f04a07b4838c7aaa8
size 1150411
